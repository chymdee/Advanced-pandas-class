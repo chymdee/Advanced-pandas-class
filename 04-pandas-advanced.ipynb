{
 "cells": [
  {
   "cell_type": "markdown",
   "id": "f8bd158d",
   "metadata": {
    "deletable": false,
    "editable": false
   },
   "source": [
    "<font size=\"+3\"><strong>Pandas: Advanced</strong></font>"
   ]
  },
  {
   "cell_type": "markdown",
   "id": "ec535c94",
   "metadata": {
    "deletable": false,
    "editable": false
   },
   "source": [
    "# Calculate Summary Statistics for a DataFrame or Series"
   ]
  },
  {
   "cell_type": "markdown",
   "id": "e0d9373d",
   "metadata": {
    "deletable": false,
    "editable": false
   },
   "source": [
    "Many datasets are large, and it can be helpful to get a summary of information in them. Let's load a dataset and examine the first few rows:"
   ]
  },
  {
   "cell_type": "code",
   "execution_count": 1,
   "id": "98d10255",
   "metadata": {
    "deletable": false,
    "scrolled": true
   },
   "outputs": [
    {
     "data": {
      "text/html": [
       "<div>\n",
       "<style scoped>\n",
       "    .dataframe tbody tr th:only-of-type {\n",
       "        vertical-align: middle;\n",
       "    }\n",
       "\n",
       "    .dataframe tbody tr th {\n",
       "        vertical-align: top;\n",
       "    }\n",
       "\n",
       "    .dataframe thead th {\n",
       "        text-align: right;\n",
       "    }\n",
       "</style>\n",
       "<table border=\"1\" class=\"dataframe\">\n",
       "  <thead>\n",
       "    <tr style=\"text-align: right;\">\n",
       "      <th></th>\n",
       "      <th>operation</th>\n",
       "      <th>property_type</th>\n",
       "      <th>place_with_parent_names</th>\n",
       "      <th>lat-lon</th>\n",
       "      <th>price</th>\n",
       "      <th>currency</th>\n",
       "      <th>price_aprox_local_currency</th>\n",
       "      <th>price_aprox_usd</th>\n",
       "      <th>surface_total_in_m2</th>\n",
       "      <th>surface_covered_in_m2</th>\n",
       "      <th>price_usd_per_m2</th>\n",
       "      <th>price_per_m2</th>\n",
       "      <th>floor</th>\n",
       "      <th>rooms</th>\n",
       "      <th>expenses</th>\n",
       "      <th>properati_url</th>\n",
       "    </tr>\n",
       "  </thead>\n",
       "  <tbody>\n",
       "    <tr>\n",
       "      <th>0</th>\n",
       "      <td>sell</td>\n",
       "      <td>apartment</td>\n",
       "      <td>|México|Distrito Federal|Álvaro Obregón|</td>\n",
       "      <td>NaN</td>\n",
       "      <td>35000000.0</td>\n",
       "      <td>MXN</td>\n",
       "      <td>35634500.02</td>\n",
       "      <td>1894595.53</td>\n",
       "      <td>NaN</td>\n",
       "      <td>NaN</td>\n",
       "      <td>NaN</td>\n",
       "      <td>NaN</td>\n",
       "      <td>NaN</td>\n",
       "      <td>NaN</td>\n",
       "      <td>NaN</td>\n",
       "      <td>http://alvaro-obregon.properati.com.mx/2eb_ven...</td>\n",
       "    </tr>\n",
       "    <tr>\n",
       "      <th>1</th>\n",
       "      <td>sell</td>\n",
       "      <td>apartment</td>\n",
       "      <td>|México|Distrito Federal|Benito Juárez|</td>\n",
       "      <td>NaN</td>\n",
       "      <td>2000000.0</td>\n",
       "      <td>MXN</td>\n",
       "      <td>2036257.11</td>\n",
       "      <td>108262.60</td>\n",
       "      <td>NaN</td>\n",
       "      <td>NaN</td>\n",
       "      <td>NaN</td>\n",
       "      <td>NaN</td>\n",
       "      <td>NaN</td>\n",
       "      <td>NaN</td>\n",
       "      <td>NaN</td>\n",
       "      <td>http://benito-juarez.properati.com.mx/2ec_vent...</td>\n",
       "    </tr>\n",
       "    <tr>\n",
       "      <th>2</th>\n",
       "      <td>sell</td>\n",
       "      <td>apartment</td>\n",
       "      <td>|México|Distrito Federal|Cuauhtémoc|</td>\n",
       "      <td>19.41501,-99.175174</td>\n",
       "      <td>2700000.0</td>\n",
       "      <td>MXN</td>\n",
       "      <td>2748947.10</td>\n",
       "      <td>146154.51</td>\n",
       "      <td>61.0</td>\n",
       "      <td>61.0</td>\n",
       "      <td>2395.975574</td>\n",
       "      <td>44262.295082</td>\n",
       "      <td>NaN</td>\n",
       "      <td>3.0</td>\n",
       "      <td>NaN</td>\n",
       "      <td>http://cuauhtemoc.properati.com.mx/2pu_venta_a...</td>\n",
       "    </tr>\n",
       "    <tr>\n",
       "      <th>3</th>\n",
       "      <td>sell</td>\n",
       "      <td>apartment</td>\n",
       "      <td>|México|Distrito Federal|Cuauhtémoc|</td>\n",
       "      <td>19.41501,-99.175174</td>\n",
       "      <td>6347000.0</td>\n",
       "      <td>MXN</td>\n",
       "      <td>6462061.92</td>\n",
       "      <td>343571.36</td>\n",
       "      <td>176.0</td>\n",
       "      <td>128.0</td>\n",
       "      <td>1952.110000</td>\n",
       "      <td>49585.937500</td>\n",
       "      <td>NaN</td>\n",
       "      <td>5.0</td>\n",
       "      <td>NaN</td>\n",
       "      <td>http://cuauhtemoc.properati.com.mx/2pv_venta_a...</td>\n",
       "    </tr>\n",
       "    <tr>\n",
       "      <th>4</th>\n",
       "      <td>sell</td>\n",
       "      <td>apartment</td>\n",
       "      <td>|México|Distrito Federal|Álvaro Obregón|</td>\n",
       "      <td>NaN</td>\n",
       "      <td>6870000.0</td>\n",
       "      <td>MXN</td>\n",
       "      <td>6994543.16</td>\n",
       "      <td>371882.03</td>\n",
       "      <td>180.0</td>\n",
       "      <td>136.0</td>\n",
       "      <td>2066.011278</td>\n",
       "      <td>50514.705882</td>\n",
       "      <td>NaN</td>\n",
       "      <td>5.0</td>\n",
       "      <td>NaN</td>\n",
       "      <td>http://alvaro-obregon.properati.com.mx/2pw_ven...</td>\n",
       "    </tr>\n",
       "  </tbody>\n",
       "</table>\n",
       "</div>"
      ],
      "text/plain": [
       "  operation property_type                   place_with_parent_names  \\\n",
       "0      sell     apartment  |México|Distrito Federal|Álvaro Obregón|   \n",
       "1      sell     apartment   |México|Distrito Federal|Benito Juárez|   \n",
       "2      sell     apartment      |México|Distrito Federal|Cuauhtémoc|   \n",
       "3      sell     apartment      |México|Distrito Federal|Cuauhtémoc|   \n",
       "4      sell     apartment  |México|Distrito Federal|Álvaro Obregón|   \n",
       "\n",
       "               lat-lon       price currency  price_aprox_local_currency  \\\n",
       "0                  NaN  35000000.0      MXN                 35634500.02   \n",
       "1                  NaN   2000000.0      MXN                  2036257.11   \n",
       "2  19.41501,-99.175174   2700000.0      MXN                  2748947.10   \n",
       "3  19.41501,-99.175174   6347000.0      MXN                  6462061.92   \n",
       "4                  NaN   6870000.0      MXN                  6994543.16   \n",
       "\n",
       "   price_aprox_usd  surface_total_in_m2  surface_covered_in_m2  \\\n",
       "0       1894595.53                  NaN                    NaN   \n",
       "1        108262.60                  NaN                    NaN   \n",
       "2        146154.51                 61.0                   61.0   \n",
       "3        343571.36                176.0                  128.0   \n",
       "4        371882.03                180.0                  136.0   \n",
       "\n",
       "   price_usd_per_m2  price_per_m2  floor  rooms  expenses  \\\n",
       "0               NaN           NaN    NaN    NaN       NaN   \n",
       "1               NaN           NaN    NaN    NaN       NaN   \n",
       "2       2395.975574  44262.295082    NaN    3.0       NaN   \n",
       "3       1952.110000  49585.937500    NaN    5.0       NaN   \n",
       "4       2066.011278  50514.705882    NaN    5.0       NaN   \n",
       "\n",
       "                                       properati_url  \n",
       "0  http://alvaro-obregon.properati.com.mx/2eb_ven...  \n",
       "1  http://benito-juarez.properati.com.mx/2ec_vent...  \n",
       "2  http://cuauhtemoc.properati.com.mx/2pu_venta_a...  \n",
       "3  http://cuauhtemoc.properati.com.mx/2pv_venta_a...  \n",
       "4  http://alvaro-obregon.properati.com.mx/2pw_ven...  "
      ]
     },
     "execution_count": 1,
     "metadata": {},
     "output_type": "execute_result"
    }
   ],
   "source": [
    "import pandas as pd\n",
    "\n",
    "mexico_city1 = pd.read_csv(\"./data/mexico-city-real-estate-1.csv\")\n",
    "mexico_city1.head()"
   ]
  },
  {
   "cell_type": "markdown",
   "id": "e06f1f11",
   "metadata": {
    "deletable": false,
    "editable": false
   },
   "source": [
    "Let's get a summary description of this dataset."
   ]
  },
  {
   "cell_type": "code",
   "execution_count": 3,
   "id": "e893b3bb",
   "metadata": {},
   "outputs": [
    {
     "data": {
      "text/plain": [
       "operation                        0\n",
       "property_type                    0\n",
       "place_with_parent_names          0\n",
       "lat-lon                        848\n",
       "price                           33\n",
       "currency                        33\n",
       "price_aprox_local_currency      33\n",
       "price_aprox_usd                 33\n",
       "surface_total_in_m2            941\n",
       "surface_covered_in_m2          129\n",
       "price_usd_per_m2              1716\n",
       "price_per_m2                   230\n",
       "floor                         3216\n",
       "rooms                         3589\n",
       "expenses                      3791\n",
       "properati_url                    0\n",
       "dtype: int64"
      ]
     },
     "execution_count": 3,
     "metadata": {},
     "output_type": "execute_result"
    }
   ],
   "source": [
    "mexico_city1.isnull().sum()"
   ]
  },
  {
   "cell_type": "code",
   "execution_count": 2,
   "id": "a4606c5b",
   "metadata": {
    "deletable": false,
    "scrolled": true
   },
   "outputs": [
    {
     "data": {
      "text/html": [
       "<div>\n",
       "<style scoped>\n",
       "    .dataframe tbody tr th:only-of-type {\n",
       "        vertical-align: middle;\n",
       "    }\n",
       "\n",
       "    .dataframe tbody tr th {\n",
       "        vertical-align: top;\n",
       "    }\n",
       "\n",
       "    .dataframe thead th {\n",
       "        text-align: right;\n",
       "    }\n",
       "</style>\n",
       "<table border=\"1\" class=\"dataframe\">\n",
       "  <thead>\n",
       "    <tr style=\"text-align: right;\">\n",
       "      <th></th>\n",
       "      <th>price</th>\n",
       "      <th>price_aprox_local_currency</th>\n",
       "      <th>price_aprox_usd</th>\n",
       "      <th>surface_total_in_m2</th>\n",
       "      <th>surface_covered_in_m2</th>\n",
       "      <th>price_usd_per_m2</th>\n",
       "      <th>price_per_m2</th>\n",
       "      <th>floor</th>\n",
       "      <th>rooms</th>\n",
       "      <th>expenses</th>\n",
       "    </tr>\n",
       "  </thead>\n",
       "  <tbody>\n",
       "    <tr>\n",
       "      <th>count</th>\n",
       "      <td>3.758000e+03</td>\n",
       "      <td>3.758000e+03</td>\n",
       "      <td>3.758000e+03</td>\n",
       "      <td>2850.000000</td>\n",
       "      <td>3662.000000</td>\n",
       "      <td>2075.000000</td>\n",
       "      <td>3561.000000</td>\n",
       "      <td>575.000000</td>\n",
       "      <td>202.000000</td>\n",
       "      <td>0.0</td>\n",
       "    </tr>\n",
       "    <tr>\n",
       "      <th>mean</th>\n",
       "      <td>5.015710e+06</td>\n",
       "      <td>9.553774e+06</td>\n",
       "      <td>5.079498e+05</td>\n",
       "      <td>292.954386</td>\n",
       "      <td>250.817313</td>\n",
       "      <td>1906.810070</td>\n",
       "      <td>24475.917409</td>\n",
       "      <td>3.627826</td>\n",
       "      <td>3.039604</td>\n",
       "      <td>NaN</td>\n",
       "    </tr>\n",
       "    <tr>\n",
       "      <th>std</th>\n",
       "      <td>7.355006e+06</td>\n",
       "      <td>1.544553e+07</td>\n",
       "      <td>8.211993e+05</td>\n",
       "      <td>1816.296990</td>\n",
       "      <td>336.555251</td>\n",
       "      <td>1813.415255</td>\n",
       "      <td>27430.941809</td>\n",
       "      <td>22.425889</td>\n",
       "      <td>1.410132</td>\n",
       "      <td>NaN</td>\n",
       "    </tr>\n",
       "    <tr>\n",
       "      <th>min</th>\n",
       "      <td>1.485000e+05</td>\n",
       "      <td>1.471566e+05</td>\n",
       "      <td>7.823940e+03</td>\n",
       "      <td>0.000000</td>\n",
       "      <td>0.000000</td>\n",
       "      <td>1.034212</td>\n",
       "      <td>98.221416</td>\n",
       "      <td>1.000000</td>\n",
       "      <td>1.000000</td>\n",
       "      <td>NaN</td>\n",
       "    </tr>\n",
       "    <tr>\n",
       "      <th>25%</th>\n",
       "      <td>1.068000e+06</td>\n",
       "      <td>1.585902e+06</td>\n",
       "      <td>8.431836e+04</td>\n",
       "      <td>0.000000</td>\n",
       "      <td>70.000000</td>\n",
       "      <td>669.510272</td>\n",
       "      <td>8684.210526</td>\n",
       "      <td>2.000000</td>\n",
       "      <td>2.000000</td>\n",
       "      <td>NaN</td>\n",
       "    </tr>\n",
       "    <tr>\n",
       "      <th>50%</th>\n",
       "      <td>2.550000e+06</td>\n",
       "      <td>4.031164e+06</td>\n",
       "      <td>2.143267e+05</td>\n",
       "      <td>100.000000</td>\n",
       "      <td>146.500000</td>\n",
       "      <td>1415.132810</td>\n",
       "      <td>17460.317460</td>\n",
       "      <td>2.000000</td>\n",
       "      <td>3.000000</td>\n",
       "      <td>NaN</td>\n",
       "    </tr>\n",
       "    <tr>\n",
       "      <th>75%</th>\n",
       "      <td>5.833201e+06</td>\n",
       "      <td>1.228003e+07</td>\n",
       "      <td>6.528979e+05</td>\n",
       "      <td>275.750000</td>\n",
       "      <td>310.000000</td>\n",
       "      <td>2498.628385</td>\n",
       "      <td>35810.810811</td>\n",
       "      <td>3.000000</td>\n",
       "      <td>4.000000</td>\n",
       "      <td>NaN</td>\n",
       "    </tr>\n",
       "    <tr>\n",
       "      <th>max</th>\n",
       "      <td>1.250000e+08</td>\n",
       "      <td>3.364841e+08</td>\n",
       "      <td>1.789000e+07</td>\n",
       "      <td>84500.000000</td>\n",
       "      <td>8265.000000</td>\n",
       "      <td>28396.825397</td>\n",
       "      <td>750000.000000</td>\n",
       "      <td>450.000000</td>\n",
       "      <td>9.000000</td>\n",
       "      <td>NaN</td>\n",
       "    </tr>\n",
       "  </tbody>\n",
       "</table>\n",
       "</div>"
      ],
      "text/plain": [
       "              price  price_aprox_local_currency  price_aprox_usd  \\\n",
       "count  3.758000e+03                3.758000e+03     3.758000e+03   \n",
       "mean   5.015710e+06                9.553774e+06     5.079498e+05   \n",
       "std    7.355006e+06                1.544553e+07     8.211993e+05   \n",
       "min    1.485000e+05                1.471566e+05     7.823940e+03   \n",
       "25%    1.068000e+06                1.585902e+06     8.431836e+04   \n",
       "50%    2.550000e+06                4.031164e+06     2.143267e+05   \n",
       "75%    5.833201e+06                1.228003e+07     6.528979e+05   \n",
       "max    1.250000e+08                3.364841e+08     1.789000e+07   \n",
       "\n",
       "       surface_total_in_m2  surface_covered_in_m2  price_usd_per_m2  \\\n",
       "count          2850.000000            3662.000000       2075.000000   \n",
       "mean            292.954386             250.817313       1906.810070   \n",
       "std            1816.296990             336.555251       1813.415255   \n",
       "min               0.000000               0.000000          1.034212   \n",
       "25%               0.000000              70.000000        669.510272   \n",
       "50%             100.000000             146.500000       1415.132810   \n",
       "75%             275.750000             310.000000       2498.628385   \n",
       "max           84500.000000            8265.000000      28396.825397   \n",
       "\n",
       "        price_per_m2       floor       rooms  expenses  \n",
       "count    3561.000000  575.000000  202.000000       0.0  \n",
       "mean    24475.917409    3.627826    3.039604       NaN  \n",
       "std     27430.941809   22.425889    1.410132       NaN  \n",
       "min        98.221416    1.000000    1.000000       NaN  \n",
       "25%      8684.210526    2.000000    2.000000       NaN  \n",
       "50%     17460.317460    2.000000    3.000000       NaN  \n",
       "75%     35810.810811    3.000000    4.000000       NaN  \n",
       "max    750000.000000  450.000000    9.000000       NaN  "
      ]
     },
     "execution_count": 2,
     "metadata": {},
     "output_type": "execute_result"
    }
   ],
   "source": [
    "mexico_city1.describe()"
   ]
  },
  {
   "cell_type": "markdown",
   "id": "4212ef08",
   "metadata": {
    "deletable": false,
    "editable": false
   },
   "source": [
    "Like most large datasets, this one has many missing values which are missing. The describe function will ignore missing values in each column. You can also remove rows and columns with missing values, and then get a summary of the data that's still there. We need to remove columns first, before removing the rows; the sequence of operations here is important. The code looks like this:"
   ]
  },
  {
   "cell_type": "code",
   "execution_count": null,
   "id": "874ee99f",
   "metadata": {
    "deletable": false,
    "scrolled": true
   },
   "outputs": [],
   "source": [
    "mexico_city1 = mexico_city1.drop(\n",
    "    [\"floor\", \"price_usd_per_m2\", \"expenses\", \"rooms\"], axis=1\n",
    ")\n",
    "mexico_city1 = mexico_city1.dropna(axis=0)\n",
    "mexico_city1.head()"
   ]
  },
  {
   "cell_type": "markdown",
   "id": "750e212c",
   "metadata": {
    "deletable": false,
    "editable": false
   },
   "source": [
    "Let's take a look at our new, cleaner dataset."
   ]
  },
  {
   "cell_type": "code",
   "execution_count": null,
   "id": "0e976231",
   "metadata": {
    "deletable": false
   },
   "outputs": [],
   "source": [
    "mexico_city1.describe()"
   ]
  },
  {
   "cell_type": "markdown",
   "id": "3efbcf41",
   "metadata": {
    "deletable": false,
    "editable": false
   },
   "source": [
    "<font size=\"+1\">Practice</font> \n",
    "\n",
    "Reload the `mexico-city-real-estate-1.csv` dataset. Reverse the sequence of operations by first dropping all rows where there is a missing value, and then dropping the columns, `floor`, `price_usd_per_m2`,`expenses` and `rooms`. What is the size of the resulting DataFrame?"
   ]
  },
  {
   "cell_type": "code",
   "execution_count": null,
   "id": "1a97e9c3",
   "metadata": {
    "deletable": false
   },
   "outputs": [],
   "source": [
    "mexico_city1 = pd.read_csv(\"./data/mexico-city-real-estate-1.csv\")\n",
    "mexico_city1 = ...\n",
    "mexico_city1 = mexico_city1.drop(\n",
    "    [\"floor\", \"price_usd_per_m2\", \"expenses\", \"rooms\"], axis=1\n",
    ")  # REMOVERHS\n",
    "print(mexico_city1.shape)"
   ]
  },
  {
   "cell_type": "markdown",
   "id": "94345e4c",
   "metadata": {
    "deletable": false,
    "editable": false
   },
   "source": [
    "# Select a Series from a DataFrame"
   ]
  },
  {
   "cell_type": "markdown",
   "id": "623934bb",
   "metadata": {
    "deletable": false,
    "editable": false
   },
   "source": [
    "Since the datasets we work with are so large, you might want to focus on a single column of a DataFrame. Let's load up the `mexico-city-real-estate-2` dataset, and examine the first few rows to find the column names."
   ]
  },
  {
   "cell_type": "code",
   "execution_count": 9,
   "id": "b1e9e721",
   "metadata": {},
   "outputs": [
    {
     "data": {
      "text/plain": [
       "array(['MXN', 'USD', nan], dtype=object)"
      ]
     },
     "execution_count": 9,
     "metadata": {},
     "output_type": "execute_result"
    }
   ],
   "source": [
    "curr = mexico_city2[\"currency\"].unique()\n",
    "curr"
   ]
  },
  {
   "cell_type": "code",
   "execution_count": 10,
   "id": "11226a13",
   "metadata": {},
   "outputs": [
    {
     "data": {
      "text/plain": [
       "array(['apartment', 'house', 'store', 'PH'], dtype=object)"
      ]
     },
     "execution_count": 10,
     "metadata": {},
     "output_type": "execute_result"
    }
   ],
   "source": [
    "prop = mexico_city2[\"property_type\"].unique()\n",
    "prop"
   ]
  },
  {
   "cell_type": "code",
   "execution_count": 15,
   "id": "eba2c30c",
   "metadata": {
    "deletable": false
   },
   "outputs": [
    {
     "data": {
      "text/html": [
       "<div>\n",
       "<style scoped>\n",
       "    .dataframe tbody tr th:only-of-type {\n",
       "        vertical-align: middle;\n",
       "    }\n",
       "\n",
       "    .dataframe tbody tr th {\n",
       "        vertical-align: top;\n",
       "    }\n",
       "\n",
       "    .dataframe thead th {\n",
       "        text-align: right;\n",
       "    }\n",
       "</style>\n",
       "<table border=\"1\" class=\"dataframe\">\n",
       "  <thead>\n",
       "    <tr style=\"text-align: right;\">\n",
       "      <th></th>\n",
       "      <th>operation</th>\n",
       "      <th>property_type</th>\n",
       "      <th>place_with_parent_names</th>\n",
       "      <th>lat-lon</th>\n",
       "      <th>price</th>\n",
       "      <th>currency</th>\n",
       "      <th>price_aprox_local_currency</th>\n",
       "      <th>price_aprox_usd</th>\n",
       "      <th>surface_total_in_m2</th>\n",
       "      <th>surface_covered_in_m2</th>\n",
       "      <th>price_usd_per_m2</th>\n",
       "      <th>price_per_m2</th>\n",
       "      <th>floor</th>\n",
       "      <th>rooms</th>\n",
       "      <th>expenses</th>\n",
       "      <th>properati_url</th>\n",
       "    </tr>\n",
       "  </thead>\n",
       "  <tbody>\n",
       "    <tr>\n",
       "      <th>0</th>\n",
       "      <td>sell</td>\n",
       "      <td>apartment</td>\n",
       "      <td>|México|Distrito Federal|Benito Juárez|</td>\n",
       "      <td>19.375445,-99.1543144</td>\n",
       "      <td>4300500.0</td>\n",
       "      <td>MXN</td>\n",
       "      <td>4261596.45</td>\n",
       "      <td>226578.22</td>\n",
       "      <td>0.0</td>\n",
       "      <td>74.0</td>\n",
       "      <td>NaN</td>\n",
       "      <td>58114.864865</td>\n",
       "      <td>NaN</td>\n",
       "      <td>NaN</td>\n",
       "      <td>NaN</td>\n",
       "      <td>http://benito-juarez.properati.com.mx/l1yl_ven...</td>\n",
       "    </tr>\n",
       "    <tr>\n",
       "      <th>1</th>\n",
       "      <td>sell</td>\n",
       "      <td>apartment</td>\n",
       "      <td>|México|Distrito Federal|Tlalpan|</td>\n",
       "      <td>19.2742408542,-99.1496908665</td>\n",
       "      <td>2788000.0</td>\n",
       "      <td>MXN</td>\n",
       "      <td>2762778.87</td>\n",
       "      <td>146889.91</td>\n",
       "      <td>0.0</td>\n",
       "      <td>111.0</td>\n",
       "      <td>NaN</td>\n",
       "      <td>25117.117117</td>\n",
       "      <td>NaN</td>\n",
       "      <td>NaN</td>\n",
       "      <td>NaN</td>\n",
       "      <td>http://tlalpan.properati.com.mx/l1ym_venta_dep...</td>\n",
       "    </tr>\n",
       "    <tr>\n",
       "      <th>2</th>\n",
       "      <td>sell</td>\n",
       "      <td>apartment</td>\n",
       "      <td>|México|Distrito Federal|Álvaro Obregón|Tetelpan|</td>\n",
       "      <td>19.3427189674,-99.2225289345</td>\n",
       "      <td>3351600.0</td>\n",
       "      <td>MXN</td>\n",
       "      <td>3321280.35</td>\n",
       "      <td>176584.01</td>\n",
       "      <td>0.0</td>\n",
       "      <td>82.0</td>\n",
       "      <td>NaN</td>\n",
       "      <td>40873.170732</td>\n",
       "      <td>NaN</td>\n",
       "      <td>NaN</td>\n",
       "      <td>NaN</td>\n",
       "      <td>http://tetelpan.properati.com.mx/l1yn_venta_de...</td>\n",
       "    </tr>\n",
       "    <tr>\n",
       "      <th>3</th>\n",
       "      <td>sell</td>\n",
       "      <td>apartment</td>\n",
       "      <td>|México|Distrito Federal|Benito Juárez|</td>\n",
       "      <td>19.3596034,-99.1514055</td>\n",
       "      <td>2862800.0</td>\n",
       "      <td>MXN</td>\n",
       "      <td>2836902.23</td>\n",
       "      <td>150830.86</td>\n",
       "      <td>73.0</td>\n",
       "      <td>73.0</td>\n",
       "      <td>2066.176164</td>\n",
       "      <td>39216.438356</td>\n",
       "      <td>NaN</td>\n",
       "      <td>NaN</td>\n",
       "      <td>NaN</td>\n",
       "      <td>http://benito-juarez.properati.com.mx/l1yo_ven...</td>\n",
       "    </tr>\n",
       "    <tr>\n",
       "      <th>4</th>\n",
       "      <td>sell</td>\n",
       "      <td>apartment</td>\n",
       "      <td>|México|Distrito Federal|Benito Juárez|</td>\n",
       "      <td>19.3953378,-99.1560855</td>\n",
       "      <td>3204800.0</td>\n",
       "      <td>MXN</td>\n",
       "      <td>3175808.45</td>\n",
       "      <td>168849.64</td>\n",
       "      <td>0.0</td>\n",
       "      <td>63.0</td>\n",
       "      <td>NaN</td>\n",
       "      <td>50869.841270</td>\n",
       "      <td>NaN</td>\n",
       "      <td>NaN</td>\n",
       "      <td>NaN</td>\n",
       "      <td>http://benito-juarez.properati.com.mx/l1yp_ven...</td>\n",
       "    </tr>\n",
       "  </tbody>\n",
       "</table>\n",
       "</div>"
      ],
      "text/plain": [
       "  operation property_type                            place_with_parent_names  \\\n",
       "0      sell     apartment            |México|Distrito Federal|Benito Juárez|   \n",
       "1      sell     apartment                  |México|Distrito Federal|Tlalpan|   \n",
       "2      sell     apartment  |México|Distrito Federal|Álvaro Obregón|Tetelpan|   \n",
       "3      sell     apartment            |México|Distrito Federal|Benito Juárez|   \n",
       "4      sell     apartment            |México|Distrito Federal|Benito Juárez|   \n",
       "\n",
       "                        lat-lon      price currency  \\\n",
       "0         19.375445,-99.1543144  4300500.0      MXN   \n",
       "1  19.2742408542,-99.1496908665  2788000.0      MXN   \n",
       "2  19.3427189674,-99.2225289345  3351600.0      MXN   \n",
       "3        19.3596034,-99.1514055  2862800.0      MXN   \n",
       "4        19.3953378,-99.1560855  3204800.0      MXN   \n",
       "\n",
       "   price_aprox_local_currency  price_aprox_usd  surface_total_in_m2  \\\n",
       "0                  4261596.45        226578.22                  0.0   \n",
       "1                  2762778.87        146889.91                  0.0   \n",
       "2                  3321280.35        176584.01                  0.0   \n",
       "3                  2836902.23        150830.86                 73.0   \n",
       "4                  3175808.45        168849.64                  0.0   \n",
       "\n",
       "   surface_covered_in_m2  price_usd_per_m2  price_per_m2  floor  rooms  \\\n",
       "0                   74.0               NaN  58114.864865    NaN    NaN   \n",
       "1                  111.0               NaN  25117.117117    NaN    NaN   \n",
       "2                   82.0               NaN  40873.170732    NaN    NaN   \n",
       "3                   73.0       2066.176164  39216.438356    NaN    NaN   \n",
       "4                   63.0               NaN  50869.841270    NaN    NaN   \n",
       "\n",
       "   expenses                                      properati_url  \n",
       "0       NaN  http://benito-juarez.properati.com.mx/l1yl_ven...  \n",
       "1       NaN  http://tlalpan.properati.com.mx/l1ym_venta_dep...  \n",
       "2       NaN  http://tetelpan.properati.com.mx/l1yn_venta_de...  \n",
       "3       NaN  http://benito-juarez.properati.com.mx/l1yo_ven...  \n",
       "4       NaN  http://benito-juarez.properati.com.mx/l1yp_ven...  "
      ]
     },
     "execution_count": 15,
     "metadata": {},
     "output_type": "execute_result"
    }
   ],
   "source": [
    "mexico_city2 = pd.read_csv(\"./data/mexico-city-real-estate-2.csv\")\n",
    "mexico_city2.head()"
   ]
  },
  {
   "cell_type": "markdown",
   "id": "1df965de",
   "metadata": {
    "deletable": false,
    "editable": false
   },
   "source": [
    "Maybe we're interested in the `surface_covered_in_m2` column. The code to extract just that one column looks like this:"
   ]
  },
  {
   "cell_type": "code",
   "execution_count": 11,
   "id": "72648718",
   "metadata": {
    "deletable": false
   },
   "outputs": [
    {
     "data": {
      "text/plain": [
       "0        74.0\n",
       "1       111.0\n",
       "2        82.0\n",
       "3        73.0\n",
       "4        63.0\n",
       "        ...  \n",
       "3786     98.0\n",
       "3787     60.0\n",
       "3788     84.0\n",
       "3789     66.0\n",
       "3790     80.0\n",
       "Name: surface_covered_in_m2, Length: 3791, dtype: float64"
      ]
     },
     "execution_count": 11,
     "metadata": {},
     "output_type": "execute_result"
    }
   ],
   "source": [
    "surface_covered_in_m2 = mexico_city2[\"surface_covered_in_m2\"]\n",
    "surface_covered_in_m2"
   ]
  },
  {
   "cell_type": "markdown",
   "id": "e4499ff8",
   "metadata": {
    "deletable": false,
    "editable": false
   },
   "source": [
    "<font size=\"+1\">Practice</font> \n",
    "\n",
    "Select the `price` series from the `mexico-city-real-estate-2` dataset, and load it into the `mexico_city2` DataFrame"
   ]
  },
  {
   "cell_type": "code",
   "execution_count": null,
   "id": "ad99722a",
   "metadata": {
    "deletable": false
   },
   "outputs": [],
   "source": [
    "price = ...\n",
    "print(price)"
   ]
  },
  {
   "cell_type": "markdown",
   "id": "ad3ee35d",
   "metadata": {
    "deletable": false,
    "editable": false
   },
   "source": [
    "# Subset a DataFrame by Selecting One or More Columns"
   ]
  },
  {
   "cell_type": "markdown",
   "id": "dadad218",
   "metadata": {
    "deletable": false,
    "editable": false
   },
   "source": [
    "You may find it more efficient to work with a smaller portion of a dataset that's relevant to you. One way to do this is to select some columns from a DataFrame and make a new DataFrame with them. Let's load a dataset to do this and examine the first few rows to find the column headings:"
   ]
  },
  {
   "cell_type": "code",
   "execution_count": null,
   "id": "92fe6969",
   "metadata": {
    "deletable": false
   },
   "outputs": [],
   "source": [
    "mexico_city4 = pd.read_csv(\"./data/mexico-city-real-estate-4.csv\")\n",
    "mexico_city4.head"
   ]
  },
  {
   "cell_type": "markdown",
   "id": "ee7d64ec",
   "metadata": {
    "deletable": false,
    "editable": false
   },
   "source": [
    "Let's choose `\"operation\"`, `\"property_type\"`, `\"place_with_parent_names\"`, and `\"price\"`:"
   ]
  },
  {
   "cell_type": "code",
   "execution_count": null,
   "id": "8b9c4040",
   "metadata": {
    "deletable": false
   },
   "outputs": [],
   "source": [
    "mexico_city4_subset = mexico_city4[\n",
    "    [\"operation\", \"property_type\", \"place_with_parent_names\", \"price\"]\n",
    "]"
   ]
  },
  {
   "cell_type": "markdown",
   "id": "a7e6b5a9",
   "metadata": {
    "deletable": false,
    "editable": false
   },
   "source": [
    "Once we've done that, we can find the resulting number of entries in the DataFrame:"
   ]
  },
  {
   "cell_type": "code",
   "execution_count": null,
   "id": "03655417",
   "metadata": {
    "deletable": false
   },
   "outputs": [],
   "source": [
    "mexico_city4_subset.shape"
   ]
  },
  {
   "cell_type": "markdown",
   "id": "5bced979",
   "metadata": {
    "deletable": false,
    "editable": false
   },
   "source": [
    "<font size=\"+1\">Practice</font> \n",
    "\n",
    "Load the `mexico-city-real-estate-1.csv` dataset and subset it to obtain the `operation`, `lat-lon` and `place_with_property_names` columns only. How many entries are in the resulting DataFrame?"
   ]
  },
  {
   "cell_type": "code",
   "execution_count": null,
   "id": "843690a3",
   "metadata": {
    "deletable": false
   },
   "outputs": [],
   "source": [
    "mexico_city1 = ...\n",
    "mexico_city1_subset = mexico_city1[\n",
    "    [\"operation\", \"lat-lon\", \"place_with_parent_names\"]\n",
    "]  # REMOVERHS\n",
    "print(mexico_city1_subset.shape)"
   ]
  },
  {
   "cell_type": "markdown",
   "id": "5e350f11",
   "metadata": {
    "deletable": false,
    "editable": false
   },
   "source": [
    "# Subset the Columns of a DataFrame Based on Data Types"
   ]
  },
  {
   "cell_type": "markdown",
   "id": "4a24ce09",
   "metadata": {
    "deletable": false,
    "editable": false
   },
   "source": [
    "It's helpful to be able to find specific types of entries &mdash; typically numeric ones &mdash; and put all of these in a separate DataFrame. First, let's take a look at the `mexico-city-real-estate-5` dataset."
   ]
  },
  {
   "cell_type": "code",
   "execution_count": 14,
   "id": "0ede0773",
   "metadata": {
    "deletable": false
   },
   "outputs": [
    {
     "data": {
      "text/html": [
       "<div>\n",
       "<style scoped>\n",
       "    .dataframe tbody tr th:only-of-type {\n",
       "        vertical-align: middle;\n",
       "    }\n",
       "\n",
       "    .dataframe tbody tr th {\n",
       "        vertical-align: top;\n",
       "    }\n",
       "\n",
       "    .dataframe thead th {\n",
       "        text-align: right;\n",
       "    }\n",
       "</style>\n",
       "<table border=\"1\" class=\"dataframe\">\n",
       "  <thead>\n",
       "    <tr style=\"text-align: right;\">\n",
       "      <th></th>\n",
       "      <th>operation</th>\n",
       "      <th>property_type</th>\n",
       "      <th>place_with_parent_names</th>\n",
       "      <th>lat-lon</th>\n",
       "      <th>price</th>\n",
       "      <th>currency</th>\n",
       "      <th>price_aprox_local_currency</th>\n",
       "      <th>price_aprox_usd</th>\n",
       "      <th>surface_total_in_m2</th>\n",
       "      <th>surface_covered_in_m2</th>\n",
       "      <th>price_usd_per_m2</th>\n",
       "      <th>price_per_m2</th>\n",
       "      <th>floor</th>\n",
       "      <th>rooms</th>\n",
       "      <th>expenses</th>\n",
       "      <th>properati_url</th>\n",
       "    </tr>\n",
       "  </thead>\n",
       "  <tbody>\n",
       "    <tr>\n",
       "      <th>0</th>\n",
       "      <td>sell</td>\n",
       "      <td>store</td>\n",
       "      <td>|México|Distrito Federal|Cuauhtémoc|</td>\n",
       "      <td>19.4377047567,-99.1511714458</td>\n",
       "      <td>1950000.0</td>\n",
       "      <td>MXN</td>\n",
       "      <td>1932817.88</td>\n",
       "      <td>102763.00</td>\n",
       "      <td>63.0</td>\n",
       "      <td>63.0</td>\n",
       "      <td>1631.158730</td>\n",
       "      <td>30952.380952</td>\n",
       "      <td>NaN</td>\n",
       "      <td>NaN</td>\n",
       "      <td>NaN</td>\n",
       "      <td>http://cuauhtemoc.properati.com.mx/pms1_venta_...</td>\n",
       "    </tr>\n",
       "    <tr>\n",
       "      <th>1</th>\n",
       "      <td>sell</td>\n",
       "      <td>house</td>\n",
       "      <td>|México|Distrito Federal|Coyoacán|</td>\n",
       "      <td>19.317018,-99.130739</td>\n",
       "      <td>3990000.0</td>\n",
       "      <td>MXN</td>\n",
       "      <td>3953905.37</td>\n",
       "      <td>210219.07</td>\n",
       "      <td>NaN</td>\n",
       "      <td>210.0</td>\n",
       "      <td>NaN</td>\n",
       "      <td>19000.000000</td>\n",
       "      <td>NaN</td>\n",
       "      <td>NaN</td>\n",
       "      <td>NaN</td>\n",
       "      <td>http://coyoacan.properati.com.mx/pmsd_venta_ca...</td>\n",
       "    </tr>\n",
       "    <tr>\n",
       "      <th>2</th>\n",
       "      <td>sell</td>\n",
       "      <td>house</td>\n",
       "      <td>|México|Distrito Federal|Cuajimalpa de Morelos|</td>\n",
       "      <td>19.4032060441,-99.246864114</td>\n",
       "      <td>2000000.0</td>\n",
       "      <td>USD</td>\n",
       "      <td>37617000.00</td>\n",
       "      <td>2000000.00</td>\n",
       "      <td>1000.0</td>\n",
       "      <td>1000.0</td>\n",
       "      <td>2000.000000</td>\n",
       "      <td>2000.000000</td>\n",
       "      <td>NaN</td>\n",
       "      <td>NaN</td>\n",
       "      <td>NaN</td>\n",
       "      <td>http://cuajimalpa-de-morelos.properati.com.mx/...</td>\n",
       "    </tr>\n",
       "    <tr>\n",
       "      <th>3</th>\n",
       "      <td>sell</td>\n",
       "      <td>apartment</td>\n",
       "      <td>|México|Distrito Federal|Venustiano Carranza|</td>\n",
       "      <td>19.438641,-99.098522</td>\n",
       "      <td>748000.0</td>\n",
       "      <td>MXN</td>\n",
       "      <td>741233.20</td>\n",
       "      <td>39409.48</td>\n",
       "      <td>NaN</td>\n",
       "      <td>52.0</td>\n",
       "      <td>NaN</td>\n",
       "      <td>14384.615385</td>\n",
       "      <td>NaN</td>\n",
       "      <td>NaN</td>\n",
       "      <td>NaN</td>\n",
       "      <td>http://venustiano-carranza.properati.com.mx/pm...</td>\n",
       "    </tr>\n",
       "    <tr>\n",
       "      <th>4</th>\n",
       "      <td>sell</td>\n",
       "      <td>house</td>\n",
       "      <td>|México|Distrito Federal|Miguel Hidalgo|</td>\n",
       "      <td>NaN</td>\n",
       "      <td>15500000.0</td>\n",
       "      <td>MXN</td>\n",
       "      <td>15363425.29</td>\n",
       "      <td>816834.16</td>\n",
       "      <td>197.0</td>\n",
       "      <td>197.0</td>\n",
       "      <td>4146.366294</td>\n",
       "      <td>78680.203046</td>\n",
       "      <td>NaN</td>\n",
       "      <td>NaN</td>\n",
       "      <td>NaN</td>\n",
       "      <td>http://miguel-hidalgo-df.properati.com.mx/pmv1...</td>\n",
       "    </tr>\n",
       "  </tbody>\n",
       "</table>\n",
       "</div>"
      ],
      "text/plain": [
       "  operation property_type                          place_with_parent_names  \\\n",
       "0      sell         store             |México|Distrito Federal|Cuauhtémoc|   \n",
       "1      sell         house               |México|Distrito Federal|Coyoacán|   \n",
       "2      sell         house  |México|Distrito Federal|Cuajimalpa de Morelos|   \n",
       "3      sell     apartment    |México|Distrito Federal|Venustiano Carranza|   \n",
       "4      sell         house         |México|Distrito Federal|Miguel Hidalgo|   \n",
       "\n",
       "                        lat-lon       price currency  \\\n",
       "0  19.4377047567,-99.1511714458   1950000.0      MXN   \n",
       "1          19.317018,-99.130739   3990000.0      MXN   \n",
       "2   19.4032060441,-99.246864114   2000000.0      USD   \n",
       "3          19.438641,-99.098522    748000.0      MXN   \n",
       "4                           NaN  15500000.0      MXN   \n",
       "\n",
       "   price_aprox_local_currency  price_aprox_usd  surface_total_in_m2  \\\n",
       "0                  1932817.88        102763.00                 63.0   \n",
       "1                  3953905.37        210219.07                  NaN   \n",
       "2                 37617000.00       2000000.00               1000.0   \n",
       "3                   741233.20         39409.48                  NaN   \n",
       "4                 15363425.29        816834.16                197.0   \n",
       "\n",
       "   surface_covered_in_m2  price_usd_per_m2  price_per_m2  floor  rooms  \\\n",
       "0                   63.0       1631.158730  30952.380952    NaN    NaN   \n",
       "1                  210.0               NaN  19000.000000    NaN    NaN   \n",
       "2                 1000.0       2000.000000   2000.000000    NaN    NaN   \n",
       "3                   52.0               NaN  14384.615385    NaN    NaN   \n",
       "4                  197.0       4146.366294  78680.203046    NaN    NaN   \n",
       "\n",
       "   expenses                                      properati_url  \n",
       "0       NaN  http://cuauhtemoc.properati.com.mx/pms1_venta_...  \n",
       "1       NaN  http://coyoacan.properati.com.mx/pmsd_venta_ca...  \n",
       "2       NaN  http://cuajimalpa-de-morelos.properati.com.mx/...  \n",
       "3       NaN  http://venustiano-carranza.properati.com.mx/pm...  \n",
       "4       NaN  http://miguel-hidalgo-df.properati.com.mx/pmv1...  "
      ]
     },
     "execution_count": 14,
     "metadata": {},
     "output_type": "execute_result"
    }
   ],
   "source": [
    "mexico_city5 = pd.read_csv(\"./data/mexico-city-real-estate-5.csv\")\n",
    "mexico_city5.head()"
   ]
  },
  {
   "cell_type": "markdown",
   "id": "00f4be34",
   "metadata": {
    "deletable": false,
    "editable": false
   },
   "source": [
    "The code to subset just the numerical entries looks like this:"
   ]
  },
  {
   "cell_type": "code",
   "execution_count": 16,
   "id": "5265feb7",
   "metadata": {},
   "outputs": [
    {
     "data": {
      "text/html": [
       "<div>\n",
       "<style scoped>\n",
       "    .dataframe tbody tr th:only-of-type {\n",
       "        vertical-align: middle;\n",
       "    }\n",
       "\n",
       "    .dataframe tbody tr th {\n",
       "        vertical-align: top;\n",
       "    }\n",
       "\n",
       "    .dataframe thead th {\n",
       "        text-align: right;\n",
       "    }\n",
       "</style>\n",
       "<table border=\"1\" class=\"dataframe\">\n",
       "  <thead>\n",
       "    <tr style=\"text-align: right;\">\n",
       "      <th></th>\n",
       "      <th>price</th>\n",
       "      <th>price_aprox_local_currency</th>\n",
       "      <th>price_aprox_usd</th>\n",
       "      <th>surface_total_in_m2</th>\n",
       "      <th>surface_covered_in_m2</th>\n",
       "      <th>price_usd_per_m2</th>\n",
       "      <th>price_per_m2</th>\n",
       "      <th>floor</th>\n",
       "      <th>rooms</th>\n",
       "      <th>expenses</th>\n",
       "    </tr>\n",
       "  </thead>\n",
       "  <tbody>\n",
       "    <tr>\n",
       "      <th>0</th>\n",
       "      <td>1950000.0</td>\n",
       "      <td>1932817.88</td>\n",
       "      <td>102763.00</td>\n",
       "      <td>63.0</td>\n",
       "      <td>63.0</td>\n",
       "      <td>1631.158730</td>\n",
       "      <td>30952.380952</td>\n",
       "      <td>NaN</td>\n",
       "      <td>NaN</td>\n",
       "      <td>NaN</td>\n",
       "    </tr>\n",
       "    <tr>\n",
       "      <th>1</th>\n",
       "      <td>3990000.0</td>\n",
       "      <td>3953905.37</td>\n",
       "      <td>210219.07</td>\n",
       "      <td>NaN</td>\n",
       "      <td>210.0</td>\n",
       "      <td>NaN</td>\n",
       "      <td>19000.000000</td>\n",
       "      <td>NaN</td>\n",
       "      <td>NaN</td>\n",
       "      <td>NaN</td>\n",
       "    </tr>\n",
       "    <tr>\n",
       "      <th>2</th>\n",
       "      <td>2000000.0</td>\n",
       "      <td>37617000.00</td>\n",
       "      <td>2000000.00</td>\n",
       "      <td>1000.0</td>\n",
       "      <td>1000.0</td>\n",
       "      <td>2000.000000</td>\n",
       "      <td>2000.000000</td>\n",
       "      <td>NaN</td>\n",
       "      <td>NaN</td>\n",
       "      <td>NaN</td>\n",
       "    </tr>\n",
       "    <tr>\n",
       "      <th>3</th>\n",
       "      <td>748000.0</td>\n",
       "      <td>741233.20</td>\n",
       "      <td>39409.48</td>\n",
       "      <td>NaN</td>\n",
       "      <td>52.0</td>\n",
       "      <td>NaN</td>\n",
       "      <td>14384.615385</td>\n",
       "      <td>NaN</td>\n",
       "      <td>NaN</td>\n",
       "      <td>NaN</td>\n",
       "    </tr>\n",
       "    <tr>\n",
       "      <th>4</th>\n",
       "      <td>15500000.0</td>\n",
       "      <td>15363425.29</td>\n",
       "      <td>816834.16</td>\n",
       "      <td>197.0</td>\n",
       "      <td>197.0</td>\n",
       "      <td>4146.366294</td>\n",
       "      <td>78680.203046</td>\n",
       "      <td>NaN</td>\n",
       "      <td>NaN</td>\n",
       "      <td>NaN</td>\n",
       "    </tr>\n",
       "  </tbody>\n",
       "</table>\n",
       "</div>"
      ],
      "text/plain": [
       "        price  price_aprox_local_currency  price_aprox_usd  \\\n",
       "0   1950000.0                  1932817.88        102763.00   \n",
       "1   3990000.0                  3953905.37        210219.07   \n",
       "2   2000000.0                 37617000.00       2000000.00   \n",
       "3    748000.0                   741233.20         39409.48   \n",
       "4  15500000.0                 15363425.29        816834.16   \n",
       "\n",
       "   surface_total_in_m2  surface_covered_in_m2  price_usd_per_m2  price_per_m2  \\\n",
       "0                 63.0                   63.0       1631.158730  30952.380952   \n",
       "1                  NaN                  210.0               NaN  19000.000000   \n",
       "2               1000.0                 1000.0       2000.000000   2000.000000   \n",
       "3                  NaN                   52.0               NaN  14384.615385   \n",
       "4                197.0                  197.0       4146.366294  78680.203046   \n",
       "\n",
       "   floor  rooms  expenses  \n",
       "0    NaN    NaN       NaN  \n",
       "1    NaN    NaN       NaN  \n",
       "2    NaN    NaN       NaN  \n",
       "3    NaN    NaN       NaN  \n",
       "4    NaN    NaN       NaN  "
      ]
     },
     "execution_count": 16,
     "metadata": {},
     "output_type": "execute_result"
    }
   ],
   "source": [
    "mexico_city5.select_dtypes(include = \"float\").head()"
   ]
  },
  {
   "cell_type": "code",
   "execution_count": 13,
   "id": "8bc20cc4",
   "metadata": {},
   "outputs": [
    {
     "name": "stdout",
     "output_type": "stream",
     "text": [
      "<class 'pandas.core.frame.DataFrame'>\n",
      "RangeIndex: 3791 entries, 0 to 3790\n",
      "Data columns (total 16 columns):\n",
      " #   Column                      Non-Null Count  Dtype  \n",
      "---  ------                      --------------  -----  \n",
      " 0   operation                   3791 non-null   object \n",
      " 1   property_type               3791 non-null   object \n",
      " 2   place_with_parent_names     3791 non-null   object \n",
      " 3   lat-lon                     3544 non-null   object \n",
      " 4   price                       3786 non-null   float64\n",
      " 5   currency                    3786 non-null   object \n",
      " 6   price_aprox_local_currency  3786 non-null   float64\n",
      " 7   price_aprox_usd             3786 non-null   float64\n",
      " 8   surface_total_in_m2         698 non-null    float64\n",
      " 9   surface_covered_in_m2       3653 non-null   float64\n",
      " 10  price_usd_per_m2            474 non-null    float64\n",
      " 11  price_per_m2                3596 non-null   float64\n",
      " 12  floor                       23 non-null     float64\n",
      " 13  rooms                       43 non-null     float64\n",
      " 14  expenses                    11 non-null     float64\n",
      " 15  properati_url               3791 non-null   object \n",
      "dtypes: float64(10), object(6)\n",
      "memory usage: 474.0+ KB\n"
     ]
    }
   ],
   "source": [
    "mexico_city5.info()"
   ]
  },
  {
   "cell_type": "code",
   "execution_count": null,
   "id": "4386042d",
   "metadata": {
    "deletable": false
   },
   "outputs": [],
   "source": [
    "mexico_city5_numbers = mexico_city5.select_dtypes(include=\"number\")\n",
    "mexico_city5_numbers.head()"
   ]
  },
  {
   "cell_type": "code",
   "execution_count": null,
   "id": "65fdea99",
   "metadata": {},
   "outputs": [],
   "source": []
  },
  {
   "cell_type": "markdown",
   "id": "ae69be5d",
   "metadata": {
    "deletable": false,
    "editable": false
   },
   "source": [
    "<font size=\"+1\">Practice</font> \n",
    "\n",
    "Create a subset of the DataFrame from `mexico-city-real-estate-5` which excludes numbers."
   ]
  },
  {
   "cell_type": "code",
   "execution_count": null,
   "id": "14e5984c",
   "metadata": {
    "deletable": false
   },
   "outputs": [],
   "source": [
    "mexico_city3 = ...\n",
    "mexico_city3_no_numbers = ...\n",
    "print(mexico_city3_no_numbers.shape)"
   ]
  },
  {
   "cell_type": "markdown",
   "id": "a13b8f60",
   "metadata": {
    "deletable": false,
    "editable": false
   },
   "source": [
    "# Working with value_counts in a Series\n",
    "\n",
    "In order to use the data in a series for other types of analysis, it might be helpful to know how often each value occurs in the Series. To do that, we use the `value_counts` method to aggregate the data. Let's take a look at the number of properties associated with each department in the `colombia-real-estate-1` dataset."
   ]
  },
  {
   "cell_type": "code",
   "execution_count": 18,
   "id": "17acd3de",
   "metadata": {
    "deletable": false
   },
   "outputs": [
    {
     "data": {
      "text/plain": [
       "Bogotá D.C                                 1510\n",
       "Atlántico                                   554\n",
       "Cundinamarca                                360\n",
       "Valle del Cauca                             319\n",
       "Antioquia                                   105\n",
       "Bolívar                                      66\n",
       "Caldas                                       43\n",
       "Quindío                                      32\n",
       "Magdalena                                    29\n",
       "Tolima                                       14\n",
       "Santander                                    12\n",
       "Meta                                          8\n",
       "Boyacá                                        6\n",
       "Risaralda                                     3\n",
       "Sucre                                         3\n",
       "San Andrés Providencia y Santa Catalina       1\n",
       "Huila                                         1\n",
       "Name: department, dtype: int64"
      ]
     },
     "execution_count": 18,
     "metadata": {},
     "output_type": "execute_result"
    }
   ],
   "source": [
    "df1 = pd.read_csv(\"data/colombia-real-estate-1.csv\", usecols=[\"department\"])\n",
    "df1[\"department\"].value_counts()"
   ]
  },
  {
   "cell_type": "markdown",
   "id": "96fc2c7b",
   "metadata": {
    "deletable": false,
    "editable": false
   },
   "source": [
    "<font size=\"+1\">Practice</font>\n",
    "\n",
    "Try it yourself! Aggregate the different property types in the `colombia-real-estate-2` dataset."
   ]
  },
  {
   "cell_type": "code",
   "execution_count": null,
   "id": "e6f39ab6",
   "metadata": {
    "deletable": false
   },
   "outputs": [],
   "source": [
    "df2 = ...\n"
   ]
  },
  {
   "cell_type": "code",
   "execution_count": null,
   "id": "f3f24dbf",
   "metadata": {},
   "outputs": [],
   "source": []
  },
  {
   "cell_type": "code",
   "execution_count": null,
   "id": "b2c7b3a1",
   "metadata": {},
   "outputs": [],
   "source": []
  },
  {
   "cell_type": "markdown",
   "id": "5b179bd5",
   "metadata": {},
   "source": [
    "# Masking\n"
   ]
  },
  {
   "cell_type": "code",
   "execution_count": 21,
   "id": "ef52fc95",
   "metadata": {
    "scrolled": true
   },
   "outputs": [
    {
     "data": {
      "text/plain": [
       "<bound method DataFrame.info of         department\n",
       "0       Bogotá D.C\n",
       "1       Bogotá D.C\n",
       "2          Quindío\n",
       "3       Bogotá D.C\n",
       "4        Atlántico\n",
       "...            ...\n",
       "3061    Bogotá D.C\n",
       "3062       Bolívar\n",
       "3063  Cundinamarca\n",
       "3064    Bogotá D.C\n",
       "3065    Bogotá D.C\n",
       "\n",
       "[3066 rows x 1 columns]>"
      ]
     },
     "execution_count": 21,
     "metadata": {},
     "output_type": "execute_result"
    }
   ],
   "source": [
    "df1.info"
   ]
  },
  {
   "cell_type": "code",
   "execution_count": 31,
   "id": "5b03d01c",
   "metadata": {},
   "outputs": [
    {
     "data": {
      "text/html": [
       "<div>\n",
       "<style scoped>\n",
       "    .dataframe tbody tr th:only-of-type {\n",
       "        vertical-align: middle;\n",
       "    }\n",
       "\n",
       "    .dataframe tbody tr th {\n",
       "        vertical-align: top;\n",
       "    }\n",
       "\n",
       "    .dataframe thead th {\n",
       "        text-align: right;\n",
       "    }\n",
       "</style>\n",
       "<table border=\"1\" class=\"dataframe\">\n",
       "  <thead>\n",
       "    <tr style=\"text-align: right;\">\n",
       "      <th></th>\n",
       "      <th>property_type</th>\n",
       "      <th>department</th>\n",
       "      <th>lat</th>\n",
       "      <th>lon</th>\n",
       "      <th>area_m2</th>\n",
       "      <th>price_usd</th>\n",
       "    </tr>\n",
       "  </thead>\n",
       "  <tbody>\n",
       "    <tr>\n",
       "      <th>0</th>\n",
       "      <td>house</td>\n",
       "      <td>Bogotá D.C</td>\n",
       "      <td>4.690</td>\n",
       "      <td>-74.048</td>\n",
       "      <td>187.0</td>\n",
       "      <td>$330,899.98</td>\n",
       "    </tr>\n",
       "    <tr>\n",
       "      <th>1</th>\n",
       "      <td>house</td>\n",
       "      <td>Bogotá D.C</td>\n",
       "      <td>4.695</td>\n",
       "      <td>-74.082</td>\n",
       "      <td>82.0</td>\n",
       "      <td>$121,555.09</td>\n",
       "    </tr>\n",
       "    <tr>\n",
       "      <th>2</th>\n",
       "      <td>house</td>\n",
       "      <td>Quindío</td>\n",
       "      <td>4.535</td>\n",
       "      <td>-75.676</td>\n",
       "      <td>235.0</td>\n",
       "      <td>$219,474.47</td>\n",
       "    </tr>\n",
       "    <tr>\n",
       "      <th>3</th>\n",
       "      <td>house</td>\n",
       "      <td>Bogotá D.C</td>\n",
       "      <td>4.620</td>\n",
       "      <td>-74.129</td>\n",
       "      <td>195.0</td>\n",
       "      <td>$97,919.38</td>\n",
       "    </tr>\n",
       "    <tr>\n",
       "      <th>4</th>\n",
       "      <td>house</td>\n",
       "      <td>Atlántico</td>\n",
       "      <td>11.012</td>\n",
       "      <td>-74.834</td>\n",
       "      <td>112.0</td>\n",
       "      <td>$115,477.34</td>\n",
       "    </tr>\n",
       "  </tbody>\n",
       "</table>\n",
       "</div>"
      ],
      "text/plain": [
       "  property_type  department     lat     lon  area_m2    price_usd\n",
       "0         house  Bogotá D.C   4.690 -74.048    187.0  $330,899.98\n",
       "1         house  Bogotá D.C   4.695 -74.082     82.0  $121,555.09\n",
       "2         house     Quindío   4.535 -75.676    235.0  $219,474.47\n",
       "3         house  Bogotá D.C   4.620 -74.129    195.0   $97,919.38\n",
       "4         house   Atlántico  11.012 -74.834    112.0  $115,477.34"
      ]
     },
     "execution_count": 31,
     "metadata": {},
     "output_type": "execute_result"
    }
   ],
   "source": [
    "df1 = pd.read_csv(\"data/colombia-real-estate-1.csv\")\n",
    "df1.head()"
   ]
  },
  {
   "cell_type": "code",
   "execution_count": 25,
   "id": "56d62ea7",
   "metadata": {},
   "outputs": [
    {
     "data": {
      "text/plain": [
       "array(['house', 'apartment'], dtype=object)"
      ]
     },
     "execution_count": 25,
     "metadata": {},
     "output_type": "execute_result"
    }
   ],
   "source": [
    "df1[\"property_type\"].unique()"
   ]
  },
  {
   "cell_type": "code",
   "execution_count": 34,
   "id": "b8751e5b",
   "metadata": {},
   "outputs": [],
   "source": [
    "mask = (df1[\"property_type\"] == \"apartment\") & (df1[\"department\"] == \"Quindío\")"
   ]
  },
  {
   "cell_type": "code",
   "execution_count": 35,
   "id": "8568dc0b",
   "metadata": {
    "scrolled": true
   },
   "outputs": [
    {
     "data": {
      "text/html": [
       "<div>\n",
       "<style scoped>\n",
       "    .dataframe tbody tr th:only-of-type {\n",
       "        vertical-align: middle;\n",
       "    }\n",
       "\n",
       "    .dataframe tbody tr th {\n",
       "        vertical-align: top;\n",
       "    }\n",
       "\n",
       "    .dataframe thead th {\n",
       "        text-align: right;\n",
       "    }\n",
       "</style>\n",
       "<table border=\"1\" class=\"dataframe\">\n",
       "  <thead>\n",
       "    <tr style=\"text-align: right;\">\n",
       "      <th></th>\n",
       "      <th>property_type</th>\n",
       "      <th>department</th>\n",
       "      <th>lat</th>\n",
       "      <th>lon</th>\n",
       "      <th>area_m2</th>\n",
       "      <th>price_usd</th>\n",
       "    </tr>\n",
       "  </thead>\n",
       "  <tbody>\n",
       "  </tbody>\n",
       "</table>\n",
       "</div>"
      ],
      "text/plain": [
       "Empty DataFrame\n",
       "Columns: [property_type, department, lat, lon, area_m2, price_usd]\n",
       "Index: []"
      ]
     },
     "execution_count": 35,
     "metadata": {},
     "output_type": "execute_result"
    }
   ],
   "source": [
    "newdf = df1[mask]\n",
    "newdf"
   ]
  },
  {
   "cell_type": "code",
   "execution_count": 33,
   "id": "106a5eb1",
   "metadata": {},
   "outputs": [
    {
     "data": {
      "text/html": [
       "<div>\n",
       "<style scoped>\n",
       "    .dataframe tbody tr th:only-of-type {\n",
       "        vertical-align: middle;\n",
       "    }\n",
       "\n",
       "    .dataframe tbody tr th {\n",
       "        vertical-align: top;\n",
       "    }\n",
       "\n",
       "    .dataframe thead th {\n",
       "        text-align: right;\n",
       "    }\n",
       "</style>\n",
       "<table border=\"1\" class=\"dataframe\">\n",
       "  <thead>\n",
       "    <tr style=\"text-align: right;\">\n",
       "      <th></th>\n",
       "      <th>property_type</th>\n",
       "      <th>department</th>\n",
       "      <th>lat</th>\n",
       "      <th>lon</th>\n",
       "      <th>area_m2</th>\n",
       "      <th>price_usd</th>\n",
       "    </tr>\n",
       "  </thead>\n",
       "  <tbody>\n",
       "    <tr>\n",
       "      <th>2</th>\n",
       "      <td>house</td>\n",
       "      <td>Quindío</td>\n",
       "      <td>4.535</td>\n",
       "      <td>-75.676</td>\n",
       "      <td>235.0</td>\n",
       "      <td>$219,474.47</td>\n",
       "    </tr>\n",
       "    <tr>\n",
       "      <th>79</th>\n",
       "      <td>house</td>\n",
       "      <td>Quindío</td>\n",
       "      <td>4.480</td>\n",
       "      <td>-75.753</td>\n",
       "      <td>300.0</td>\n",
       "      <td>$472,714.25</td>\n",
       "    </tr>\n",
       "    <tr>\n",
       "      <th>145</th>\n",
       "      <td>house</td>\n",
       "      <td>Quindío</td>\n",
       "      <td>4.549</td>\n",
       "      <td>-75.660</td>\n",
       "      <td>72.0</td>\n",
       "      <td>$65,842.34</td>\n",
       "    </tr>\n",
       "    <tr>\n",
       "      <th>347</th>\n",
       "      <td>house</td>\n",
       "      <td>Quindío</td>\n",
       "      <td>4.551</td>\n",
       "      <td>-75.657</td>\n",
       "      <td>147.0</td>\n",
       "      <td>$118,178.56</td>\n",
       "    </tr>\n",
       "    <tr>\n",
       "      <th>356</th>\n",
       "      <td>house</td>\n",
       "      <td>Quindío</td>\n",
       "      <td>4.515</td>\n",
       "      <td>-75.733</td>\n",
       "      <td>200.0</td>\n",
       "      <td>$185,709.17</td>\n",
       "    </tr>\n",
       "  </tbody>\n",
       "</table>\n",
       "</div>"
      ],
      "text/plain": [
       "    property_type department    lat     lon  area_m2    price_usd\n",
       "2           house    Quindío  4.535 -75.676    235.0  $219,474.47\n",
       "79          house    Quindío  4.480 -75.753    300.0  $472,714.25\n",
       "145         house    Quindío  4.549 -75.660     72.0   $65,842.34\n",
       "347         house    Quindío  4.551 -75.657    147.0  $118,178.56\n",
       "356         house    Quindío  4.515 -75.733    200.0  $185,709.17"
      ]
     },
     "execution_count": 33,
     "metadata": {},
     "output_type": "execute_result"
    }
   ],
   "source": [
    "qmask = (df1[\"department\"] == \"Quindío\")\n",
    "\n",
    "quindo_df = df1[qmask]\n",
    "quindo_df.head()"
   ]
  },
  {
   "cell_type": "markdown",
   "id": "b16a9e66",
   "metadata": {
    "deletable": false,
    "editable": false
   },
   "source": [
    "# Series and `Groupby`\n",
    "\n",
    "Large Series often include data points that have some attribute in common, but which are nevertheless not grouped together in the dataset. Happily, pandas has a method that will bring these data points together into groups. \n",
    "\n",
    "Let's take a look at the `colombia-real-estate-1` dataset. The set includes properties scattered across Colombia, so it might be useful to group properties from the same department together; to do this, we'll use the `groupby` method. The code looks like this:"
   ]
  },
  {
   "cell_type": "code",
   "execution_count": 19,
   "id": "7c075ffa",
   "metadata": {
    "deletable": false
   },
   "outputs": [],
   "source": [
    "dept_group = df1.groupby(\"department\")\n",
    "#dept_group.head()"
   ]
  },
  {
   "cell_type": "markdown",
   "id": "252848ee",
   "metadata": {
    "deletable": false,
    "editable": false
   },
   "source": [
    "To make sure we got all the departments in the dataset, let's print the first occurrence of each department."
   ]
  },
  {
   "cell_type": "code",
   "execution_count": 20,
   "id": "4d58b0f9",
   "metadata": {
    "deletable": false
   },
   "outputs": [
    {
     "data": {
      "text/html": [
       "<div>\n",
       "<style scoped>\n",
       "    .dataframe tbody tr th:only-of-type {\n",
       "        vertical-align: middle;\n",
       "    }\n",
       "\n",
       "    .dataframe tbody tr th {\n",
       "        vertical-align: top;\n",
       "    }\n",
       "\n",
       "    .dataframe thead th {\n",
       "        text-align: right;\n",
       "    }\n",
       "</style>\n",
       "<table border=\"1\" class=\"dataframe\">\n",
       "  <thead>\n",
       "    <tr style=\"text-align: right;\">\n",
       "      <th></th>\n",
       "    </tr>\n",
       "    <tr>\n",
       "      <th>department</th>\n",
       "    </tr>\n",
       "  </thead>\n",
       "  <tbody>\n",
       "    <tr>\n",
       "      <th>Antioquia</th>\n",
       "    </tr>\n",
       "    <tr>\n",
       "      <th>Atlántico</th>\n",
       "    </tr>\n",
       "    <tr>\n",
       "      <th>Bogotá D.C</th>\n",
       "    </tr>\n",
       "    <tr>\n",
       "      <th>Bolívar</th>\n",
       "    </tr>\n",
       "    <tr>\n",
       "      <th>Boyacá</th>\n",
       "    </tr>\n",
       "    <tr>\n",
       "      <th>Caldas</th>\n",
       "    </tr>\n",
       "    <tr>\n",
       "      <th>Cundinamarca</th>\n",
       "    </tr>\n",
       "    <tr>\n",
       "      <th>Huila</th>\n",
       "    </tr>\n",
       "    <tr>\n",
       "      <th>Magdalena</th>\n",
       "    </tr>\n",
       "    <tr>\n",
       "      <th>Meta</th>\n",
       "    </tr>\n",
       "    <tr>\n",
       "      <th>Quindío</th>\n",
       "    </tr>\n",
       "    <tr>\n",
       "      <th>Risaralda</th>\n",
       "    </tr>\n",
       "    <tr>\n",
       "      <th>San Andrés Providencia y Santa Catalina</th>\n",
       "    </tr>\n",
       "    <tr>\n",
       "      <th>Santander</th>\n",
       "    </tr>\n",
       "    <tr>\n",
       "      <th>Sucre</th>\n",
       "    </tr>\n",
       "    <tr>\n",
       "      <th>Tolima</th>\n",
       "    </tr>\n",
       "    <tr>\n",
       "      <th>Valle del Cauca</th>\n",
       "    </tr>\n",
       "  </tbody>\n",
       "</table>\n",
       "</div>"
      ],
      "text/plain": [
       "Empty DataFrame\n",
       "Columns: []\n",
       "Index: [Antioquia, Atlántico, Bogotá D.C, Bolívar, Boyacá, Caldas, Cundinamarca, Huila, Magdalena, Meta, Quindío, Risaralda, San Andrés Providencia y Santa Catalina, Santander, Sucre, Tolima, Valle del Cauca]"
      ]
     },
     "execution_count": 20,
     "metadata": {},
     "output_type": "execute_result"
    }
   ],
   "source": [
    "dept_group.first()"
   ]
  },
  {
   "cell_type": "markdown",
   "id": "d5da4502",
   "metadata": {
    "deletable": false,
    "editable": false
   },
   "source": [
    "<font size=\"+1\">Practice</font>\n",
    "\n",
    "Try it yourself! Group the properties in `colombia-real-estate-2` by department, and print the result."
   ]
  },
  {
   "cell_type": "code",
   "execution_count": null,
   "id": "362ed42d",
   "metadata": {
    "deletable": false
   },
   "outputs": [],
   "source": [
    "df2 = ...\n",
    "dept_group = ...\n",
    "dept_group.first()"
   ]
  },
  {
   "cell_type": "markdown",
   "id": "0c33c1c4",
   "metadata": {
    "deletable": false,
    "editable": false
   },
   "source": [
    "Now that we have all the properties grouped by department, we might want to see the properties in just one of the departments. We can use the `get_group` method to do that. If we just wanted to see the properties in `\"Santander\"`, for example, the code would look like this: "
   ]
  },
  {
   "cell_type": "code",
   "execution_count": null,
   "id": "82a196a9",
   "metadata": {
    "deletable": false
   },
   "outputs": [],
   "source": [
    "dept_group1 = df1.groupby(\"department\")\n",
    "dept_group1.get_group(\"Santander\")"
   ]
  },
  {
   "cell_type": "markdown",
   "id": "a185d737",
   "metadata": {
    "deletable": false,
    "editable": false
   },
   "source": [
    "We can also make groups based on more than one category by adding them to the `groupby` method. After resetting the `df1` DataFrame, here's what the code looks like if we want to group properties both by `department` and by `property_type`."
   ]
  },
  {
   "cell_type": "code",
   "execution_count": null,
   "id": "6d5987a1",
   "metadata": {
    "deletable": false
   },
   "outputs": [],
   "source": [
    "df1 = pd.read_csv(\"data/colombia-real-estate-1.csv\")\n",
    "dept_group2 = df1.groupby([\"department\", \"property_type\"])\n",
    "dept_group2.first()"
   ]
  },
  {
   "cell_type": "markdown",
   "id": "eb53d90d",
   "metadata": {
    "deletable": false,
    "editable": false
   },
   "source": [
    "<font size=\"+1\">Practice</font>\n",
    "\n",
    "Try it yourself! Group the properties in `colombia-real-estate-2` by department and property type, and print the result."
   ]
  },
  {
   "cell_type": "code",
   "execution_count": null,
   "id": "7fa669e9",
   "metadata": {
    "deletable": false
   },
   "outputs": [],
   "source": [
    "dept_group = ...\n",
    "dept_group.first()"
   ]
  },
  {
   "cell_type": "markdown",
   "id": "7a1c3043",
   "metadata": {
    "deletable": false,
    "editable": false
   },
   "source": [
    "Finally, it's possible to use `groupby` to calculate aggregations. For example, if we wanted to find the average property area in each department, we would use the `.mean()` method. This is what the code for that looks like:"
   ]
  },
  {
   "cell_type": "code",
   "execution_count": null,
   "id": "4b5746be",
   "metadata": {
    "deletable": false
   },
   "outputs": [],
   "source": [
    "dept_group = df1.groupby(\"department\")[\"area_m2\"].mean()\n",
    "dept_group"
   ]
  },
  {
   "cell_type": "markdown",
   "id": "d4ed8f38",
   "metadata": {
    "deletable": false,
    "editable": false
   },
   "source": [
    "*Practice*\n",
    "Try it yourself! Use the `.mean` method in the `colombia-real-estate-2` dataset to find the average price in Colombian pesos (`\"price_cop\"`) for properties in each `\"department\"`."
   ]
  },
  {
   "cell_type": "code",
   "execution_count": null,
   "id": "f256ec63",
   "metadata": {
    "deletable": false
   },
   "outputs": [],
   "source": [
    "dept_group = ...\n",
    "dept_group"
   ]
  },
  {
   "cell_type": "markdown",
   "id": "70d5c432",
   "metadata": {
    "deletable": false,
    "editable": false
   },
   "source": [
    "# Subset a DataFrame's Columns Based on the Column Data Types"
   ]
  },
  {
   "cell_type": "markdown",
   "id": "02145d53",
   "metadata": {
    "deletable": false,
    "editable": false
   },
   "source": [
    "It's helpful to be able to find entries of a certain type, typically numerical entries, and put all of these in a separate DataFrame. Let's load a dataset to see how this works:"
   ]
  },
  {
   "cell_type": "code",
   "execution_count": null,
   "id": "d21c7414",
   "metadata": {
    "deletable": false
   },
   "outputs": [],
   "source": [
    "mexico_city5 = pd.read_csv(\"./data/mexico-city-real-estate-5.csv\")\n",
    "mexico_city5.head"
   ]
  },
  {
   "cell_type": "markdown",
   "id": "e465fa15",
   "metadata": {
    "deletable": false,
    "editable": false
   },
   "source": [
    "Now let's get only numerical entries:"
   ]
  },
  {
   "cell_type": "code",
   "execution_count": null,
   "id": "8d41131a",
   "metadata": {
    "deletable": false
   },
   "outputs": [],
   "source": [
    "mexico_city5_numbers = mexico_city5.select_dtypes(include=\"number\")\n",
    "mexico_city5_numbers.head"
   ]
  },
  {
   "cell_type": "markdown",
   "id": "249a71bf",
   "metadata": {
    "deletable": false,
    "editable": false
   },
   "source": [
    "Let's now find all entries which are not numerical entries:"
   ]
  },
  {
   "cell_type": "code",
   "execution_count": null,
   "id": "fe158b58",
   "metadata": {
    "deletable": false
   },
   "outputs": [],
   "source": [
    "mexico_city5_no_numbers = mexico_city5.select_dtypes(exclude=\"number\")\n",
    "mexico_city5_no_numbers.head"
   ]
  },
  {
   "cell_type": "markdown",
   "id": "856d0fbb",
   "metadata": {
    "deletable": false,
    "editable": false
   },
   "source": [
    "<font size=\"+1\">Practice</font> \n",
    "\n",
    "Create a subset of the DataFrame from `mexico-city-real-estate-5.csv` which excludes numbers. How many entries does it have?"
   ]
  },
  {
   "cell_type": "code",
   "execution_count": null,
   "id": "c6f4d970",
   "metadata": {
    "deletable": false
   },
   "outputs": [],
   "source": [
    "mexico_city3 = ...\n",
    "mexico_city3_no_numbers = ...\n",
    "print(mexico_city3_no_numbers.shape)"
   ]
  },
  {
   "cell_type": "markdown",
   "id": "abec0664",
   "metadata": {
    "deletable": false,
    "editable": false
   },
   "source": [
    "# Subset a DataFrame's columns based on column names"
   ]
  },
  {
   "cell_type": "markdown",
   "id": "d2a1ff84",
   "metadata": {
    "deletable": false,
    "editable": false
   },
   "source": [
    "To subset a DataFrame by column names, you can either define a list of columns include or define a list of columns to exclude. Next, retain or drop the columns accordingly. For example, let's suppose we want to modify the `mexico_city3` dataset and only retain the first three columns. Let's define two lists, one with the columns to retain and one with the columns to drop:"
   ]
  },
  {
   "cell_type": "code",
   "execution_count": null,
   "id": "a9b9e2b1",
   "metadata": {
    "deletable": false
   },
   "outputs": [],
   "source": [
    "drop_cols = [\n",
    "    \"lat-lon\",\n",
    "    \"price\",\n",
    "    \"currency\",\n",
    "    \"price_aprox_local_currency\",\n",
    "    \"price_aprox_usd\",\n",
    "    \"surface_total_in_m2\",\n",
    "    \"surface_covered_in_m2\",\n",
    "    \"price_usd_per_m2\",\n",
    "    \"price_per_m2\",\n",
    "    \"floor\",\n",
    "    \"rooms\",\n",
    "    \"expenses\",\n",
    "    \"properati_url\",\n",
    "]\n",
    "\n",
    "keep_cols = [\"operation\", \"property_type\", \"place_with_parent_names\"]"
   ]
  },
  {
   "cell_type": "markdown",
   "id": "3d841176",
   "metadata": {
    "deletable": false,
    "editable": false
   },
   "source": [
    "Next, we'll explore both approaches to subset `mexico_city3`. To retain columns based on `keep_cols`:"
   ]
  },
  {
   "cell_type": "code",
   "execution_count": null,
   "id": "a3cc22b2",
   "metadata": {
    "deletable": false
   },
   "outputs": [],
   "source": [
    "mexico_city3_subsetted = mexico_city3[keep_cols]"
   ]
  },
  {
   "cell_type": "markdown",
   "id": "8f2102ec",
   "metadata": {
    "deletable": false,
    "editable": false
   },
   "source": [
    "To drop columns in `drop_cols`:"
   ]
  },
  {
   "cell_type": "code",
   "execution_count": null,
   "id": "f383c8d3",
   "metadata": {
    "deletable": false
   },
   "outputs": [],
   "source": [
    "mexico_city3_subsetted = mexico_city3.drop(columns=drop_cols)"
   ]
  },
  {
   "cell_type": "markdown",
   "id": "30d05c48",
   "metadata": {
    "deletable": false,
    "editable": false
   },
   "source": [
    "<font size=\"+1\">Practice</font> \n",
    "\n",
    "Create a subset of the DataFrame from `mexico-city-real-estate-3.csv` which excludes the last two columns."
   ]
  },
  {
   "cell_type": "code",
   "execution_count": null,
   "id": "3481fbdb",
   "metadata": {
    "deletable": false
   },
   "outputs": [],
   "source": []
  },
  {
   "cell_type": "markdown",
   "id": "0a5a36cd",
   "metadata": {
    "deletable": false,
    "editable": false
   },
   "source": [
    "## Pivot Tables\n",
    "\n",
    "A pivot table allows to aggregate and summarize a DataFrame across multiple variables. For example, let's suppose we wanted to calculate the mean of the `price` column in the `mexico_city3` dataset for the different values in the `property_type` column:"
   ]
  },
  {
   "cell_type": "code",
   "execution_count": null,
   "id": "0c37f12b",
   "metadata": {
    "deletable": false
   },
   "outputs": [],
   "source": [
    "import numpy as np\n",
    "\n",
    "mexico_city3_pivot = ...\n",
    "mexico_city3_pivot"
   ]
  },
  {
   "cell_type": "markdown",
   "id": "f16dfd2d",
   "metadata": {
    "deletable": false,
    "editable": false
   },
   "source": [
    "# Subsetting with Masks\n",
    "\n",
    "Another way to to create subsets from a larger dataset is through **masking**. Masks are ways to filter out the data you're not interested in so that you can focus on the data that you are. For example, we might want to look at properties in Colombia that are bigger than 200 square meters. In order to create this subset, we'll need to use a mask. \n",
    "\n",
    "First, we'll reset our `df1` DataFrame so that we can draw on all the data in its original form. Then we'll create a statement and then assign the result to `mask`."
   ]
  },
  {
   "cell_type": "code",
   "execution_count": null,
   "id": "b2cd1f69",
   "metadata": {
    "deletable": false
   },
   "outputs": [],
   "source": [
    "df1 = pd.read_csv(\"data/colombia-real-estate-1.csv\")\n",
    "mask = df1[\"area_m2\"] > 200\n",
    "mask.head()"
   ]
  },
  {
   "cell_type": "markdown",
   "id": "c1aa0012",
   "metadata": {
    "deletable": false,
    "editable": false
   },
   "source": [
    "Notice that `mask` is a Series of Boolean values. Where properties are smaller than 200 square meters, our statement evaluates as `False`; where they're bigger than 200, it evaluates to `True`.\n",
    "\n",
    "Once we have our mask, we can use it to select all the rows from `df1` that evaluate as `True`."
   ]
  },
  {
   "cell_type": "code",
   "execution_count": null,
   "id": "2ffd4326",
   "metadata": {
    "deletable": false
   },
   "outputs": [],
   "source": [
    "df1[mask].head()"
   ]
  },
  {
   "cell_type": "markdown",
   "id": "7f026132",
   "metadata": {
    "deletable": false,
    "editable": false
   },
   "source": [
    "<font size=\"+1\">Practice</font>\n",
    "\n",
    "Try it yourself! Read `colombia-real-estate-2` into a DataFrame named `df2`, and create a mask to select all the properties that are smaller than 100 square meters."
   ]
  },
  {
   "cell_type": "code",
   "execution_count": null,
   "id": "86c0b205",
   "metadata": {
    "deletable": false
   },
   "outputs": [],
   "source": [
    "df2 = ...\n",
    "mask = ...\n",
    "df2[mask].head()"
   ]
  },
  {
   "cell_type": "markdown",
   "id": "9d128b70",
   "metadata": {
    "deletable": false,
    "editable": false
   },
   "source": [
    "We can also create masks with multiple criteria using `&` for \"and\" and `|` for \"or.\" For example, here's how we would find all properties in Atlántico that are bigger than 400 square meters."
   ]
  },
  {
   "cell_type": "code",
   "execution_count": null,
   "id": "3da5407a",
   "metadata": {
    "deletable": false
   },
   "outputs": [],
   "source": [
    "mask = (df1[\"area_m2\"] > 400) & (df1[\"department\"] == \"Atlántico\")\n",
    "df1[mask].head()"
   ]
  },
  {
   "cell_type": "markdown",
   "id": "2df2bceb",
   "metadata": {
    "deletable": false,
    "editable": false
   },
   "source": [
    "<font size=\"+1\">Practice</font>\n",
    "\n",
    "Try it yourself! Create a mask for `df2` to select all the properties in Tolima that are smaller than 150 square meters."
   ]
  },
  {
   "cell_type": "code",
   "execution_count": null,
   "id": "74d54f3f",
   "metadata": {
    "deletable": false
   },
   "outputs": [],
   "source": [
    "mask = ...\n",
    "df2[mask].head()"
   ]
  },
  {
   "cell_type": "markdown",
   "id": "b824b767",
   "metadata": {
    "deletable": false,
    "editable": false
   },
   "source": [
    "## Reshape a DataFrame based on column values"
   ]
  },
  {
   "cell_type": "markdown",
   "id": "e2880a60",
   "metadata": {
    "deletable": false,
    "editable": false
   },
   "source": [
    "## What's a pivot table?\n",
    "\n",
    "A pivot table allows you to quickly aggregate and summarize a DataFrame using an aggregation function. For example, to build a pivot table that summarizes the mean of the `price_cop` column for each of the unique categories in the `property_type` column in `df2`:"
   ]
  },
  {
   "cell_type": "code",
   "execution_count": null,
   "id": "75b998ab",
   "metadata": {
    "deletable": false
   },
   "outputs": [],
   "source": [
    "import numpy as np\n",
    "\n",
    "pivot1 = pd.pivot_table(df2, values=\"price_cop\", index=\"property_type\", aggfunc=np.mean)\n",
    "pivot1"
   ]
  },
  {
   "cell_type": "markdown",
   "id": "4189eb7f",
   "metadata": {
    "deletable": false,
    "editable": false
   },
   "source": [
    "<font size=\"+1\">Practice</font>\n",
    "\n",
    "Try it yourself! build a pivot table that summarizes the mean of the `price_cop` column for each of the unique departments in the `department` column in `df2`:"
   ]
  },
  {
   "cell_type": "code",
   "execution_count": null,
   "id": "6cda2116",
   "metadata": {
    "deletable": false
   },
   "outputs": [],
   "source": [
    "# REMOVE {\n",
    "pivot2 = pd.pivot_table(df2, values=\"price_cop\", index=\"department\", aggfunc=np.mean)\n",
    "# REMOVE }\n",
    "pivot2"
   ]
  },
  {
   "cell_type": "markdown",
   "id": "f112ebb7",
   "metadata": {
    "deletable": false,
    "editable": false
   },
   "source": [
    "## Combine multiple categories in a Series"
   ]
  },
  {
   "cell_type": "markdown",
   "id": "263797b7",
   "metadata": {
    "deletable": false,
    "editable": false
   },
   "source": [
    "Categorical variables can be collapsed into a fewer number of categories. One approach is to retain the values of the most frequently observed values and collapse all remaining values into a single category. For example, to retain only the values of the top 10 most frequent categories in the `department` column and then collapse the other categories together, use `value_counts` to generate the count of the values:"
   ]
  },
  {
   "cell_type": "code",
   "execution_count": null,
   "id": "4a2ae07a",
   "metadata": {
    "deletable": false
   },
   "outputs": [],
   "source": [
    "df2[\"department\"].value_counts()"
   ]
  },
  {
   "cell_type": "markdown",
   "id": "ba1e2363",
   "metadata": {
    "deletable": false,
    "editable": false
   },
   "source": [
    "Next, select just the top 10 using the `head()` method, and select the column names by using the `index` attribute of the series:"
   ]
  },
  {
   "cell_type": "code",
   "execution_count": null,
   "id": "6af1e723",
   "metadata": {
    "deletable": false
   },
   "outputs": [],
   "source": [
    "top_10 = df2[\"department\"].value_counts().head(10).index"
   ]
  },
  {
   "cell_type": "markdown",
   "id": "5b5680d9",
   "metadata": {
    "deletable": false,
    "editable": false
   },
   "source": [
    "Finally, use the apply method and a lambda function to select only the values from the `department` column and collapse the remaining values into the value `Other`:"
   ]
  },
  {
   "cell_type": "code",
   "execution_count": null,
   "id": "2161c7f9",
   "metadata": {
    "deletable": false
   },
   "outputs": [],
   "source": [
    "df2[\"department\"] = df2[\"department\"].apply(lambda x: x if x in top_10 else \"Other\")"
   ]
  },
  {
   "cell_type": "markdown",
   "id": "337e83f0",
   "metadata": {
    "deletable": false,
    "editable": false
   },
   "source": [
    "<font size=\"+1\">Practice</font>\n",
    "\n",
    "Try it yourself! Retain the remaining top 5 most frequent values in the `department` column and collapse the remaining values into the category `Other`. "
   ]
  },
  {
   "cell_type": "code",
   "execution_count": null,
   "id": "4742b4e6",
   "metadata": {
    "deletable": false
   },
   "outputs": [],
   "source": []
  }
 ],
 "metadata": {
  "kernelspec": {
   "display_name": "Python 3 (ipykernel)",
   "language": "python",
   "name": "python3"
  },
  "language_info": {
   "codemirror_mode": {
    "name": "ipython",
    "version": 3
   },
   "file_extension": ".py",
   "mimetype": "text/x-python",
   "name": "python",
   "nbconvert_exporter": "python",
   "pygments_lexer": "ipython3",
   "version": "3.9.7"
  }
 },
 "nbformat": 4,
 "nbformat_minor": 5
}
